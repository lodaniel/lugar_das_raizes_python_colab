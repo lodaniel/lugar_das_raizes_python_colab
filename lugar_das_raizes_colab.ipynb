{
  "nbformat": 4,
  "nbformat_minor": 0,
  "metadata": {
    "colab": {
      "name": "lugar_das_raizes_colab.ipynb",
      "provenance": [],
      "collapsed_sections": []
    },
    "kernelspec": {
      "name": "python3",
      "display_name": "Python 3"
    }
  },
  "cells": [
    {
      "cell_type": "code",
      "metadata": {
        "id": "0PDwjVzakWxX"
      },
      "source": [
        "import matplotlib.pyplot as plt\n",
        "import numpy as np\n",
        "def FTMA(numerador, denominador):\n",
        "  numerador = np.array(numerador, dtype=np.float64)\n",
        "  denominador = np.array(denominador, dtype=np.float64)\n",
        "  tamanho = len(denominador) - len(numerador)\n",
        "  aux1 = np.zeros(tamanho)\n",
        "  numerador = np.concatenate((aux1, numerador))\n",
        "  FT = np.vstack((numerador, denominador))\n",
        "  return FT\n",
        "def RZ(FT, k_MA):\n",
        "  numerador, denominador = FT[0], FT[1]\n",
        "  num_raizes = len(np.roots(denominador))\n",
        "  raizes = []\n",
        "  for ganho in k_MA:\n",
        "    ch_eq = denominador +  ganho*numerador\n",
        "    ch_raizes = np.roots(ch_eq)\n",
        "    ch_raizes.sort()\n",
        "    raizes.append(ch_raizes)\n",
        "  raizes = np.vstack(raizes)\n",
        "  return raizes\n",
        "def LR(k_MA, raizes):\n",
        "  re = np.real(raizes)\n",
        "  im = np.imag(raizes)\n",
        "  cores = ['b', 'm', 'c', 'r', 'g']\n",
        "  fig, ax = plt.subplots()\n",
        "  ax.set_xlabel('Eixo Real [neper/s]')\n",
        "  ax.set_ylabel('Eixo Imaginario [rad/s]')\n",
        "  ax.axvline(x=0, color='k', lw=1)\n",
        "  ax.grid(True, which='both')\n",
        "  ax.scatter(re[0, :], im[0, :],\n",
        "          marker='x',\n",
        "          color='green')\n",
        "  ax.scatter(re[-1, :], im[-1, :],\n",
        "          marker='p',\n",
        "          color='orange')\n",
        "  k1 = ['k = {:1.2f}'.format(k) for k in k_MA]\n",
        "  aux_re = re[1:-1, :]\n",
        "  aux_im = im[1:-1, :]\n",
        "  color_range = range(aux_re.shape[1])\n",
        "  for r, i, j in zip(aux_re.T, aux_im.T, color_range):\n",
        "    ax.plot(r, i, color=cores[j])\n",
        "  return fig, ax"
      ],
      "execution_count": 28,
      "outputs": []
    },
    {
      "cell_type": "markdown",
      "metadata": {
        "id": "-VDQQ8mVPqTv"
      },
      "source": [
        "**Função de Transferência de Malha Aberta = k(s^2 + 2s + 2) / (s^3 + 2s^2 + s + 2)**\n",
        "\n",
        "Obs: O primeiro array na FTMA é formado pelos coeficientes do polinômio do numerador e o segundo array de FTMA é formado pelos coeficientes do polinômio do denominador."
      ]
    },
    {
      "cell_type": "code",
      "metadata": {
        "colab": {
          "base_uri": "https://localhost:8080/",
          "height": 279
        },
        "id": "SRN8R4sFPmU6",
        "outputId": "f4c49a42-6f0d-4fa3-b5ad-35c762b8a6aa"
      },
      "source": [
        "if __name__ == \"__main__\":\n",
        "  aux2=np.linspace(0,5,num=10000)\n",
        "  raizes = RZ(FTMA([1,2,2],[1,2,1,2]),aux2)\n",
        "  fig, ax = LR(aux2,raizes)\n",
        "  plt.show()"
      ],
      "execution_count": 29,
      "outputs": [
        {
          "output_type": "display_data",
          "data": {
            "image/png": "[encoded data removed]",
            "text/plain": [
              "<Figure size 432x288 with 1 Axes>"
            ]
          },
          "metadata": {
            "tags": [],
            "needs_background": "light"
          }
        }
      ]
    },
    {
      "cell_type": "markdown",
      "metadata": {
        "id": "z2WhmDxaR5en"
      },
      "source": [
        "**Função de Transferência de Malha Aberta = k(5s^2 + 10s + 20) / (5s^5 + 57s^4 + 195s^3 + 218s^2 + 120s + 0)**"
      ]
    },
    {
      "cell_type": "code",
      "metadata": {
        "colab": {
          "base_uri": "https://localhost:8080/",
          "height": 279
        },
        "id": "0AxhjXfbR8J4",
        "outputId": "f97677ac-af34-43d3-fade-e6b33774f31c"
      },
      "source": [
        "if __name__ == \"__main__\":\n",
        "  aux2=np.linspace(0,250,num=10000)\n",
        "  raizes = RZ(FTMA([5,10,20],[5,57,195,218,120,0]),aux2)\n",
        "  fig, ax = LR(aux2,raizes)\n",
        "  plt.show()"
      ],
      "execution_count": 31,
      "outputs": [
        {
          "output_type": "display_data",
          "data": {
            "image/png": "[encoded data removed]",
            "text/plain": [
              "<Figure size 432x288 with 1 Axes>"
            ]
          },
          "metadata": {
            "tags": [],
            "needs_background": "light"
          }
        }
      ]
    }
  ]
}